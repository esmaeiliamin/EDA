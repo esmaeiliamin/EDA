{
 "cells": [
  {
   "cell_type": "code",
   "execution_count": 144,
   "metadata": {},
   "outputs": [],
   "source": [
    "import pandas as pd"
   ]
  },
  {
   "cell_type": "code",
   "execution_count": 145,
   "metadata": {},
   "outputs": [],
   "source": [
    "from faker import Faker"
   ]
  },
  {
   "cell_type": "code",
   "execution_count": 147,
   "metadata": {},
   "outputs": [],
   "source": [
    "en_fake = Faker()\n",
    "fa_fake = Faker('Fa')"
   ]
  },
  {
   "cell_type": "code",
   "execution_count": 148,
   "metadata": {},
   "outputs": [
    {
     "data": {
      "text/plain": [
       "'Patrick Gordon'"
      ]
     },
     "execution_count": 148,
     "metadata": {},
     "output_type": "execute_result"
    }
   ],
   "source": [
    "en_fake.name()"
   ]
  },
  {
   "cell_type": "markdown",
   "metadata": {},
   "source": [
    "Loading Data"
   ]
  },
  {
   "cell_type": "code",
   "execution_count": 149,
   "metadata": {},
   "outputs": [],
   "source": [
    "from names_dataset import NameDataset"
   ]
  },
  {
   "cell_type": "code",
   "execution_count": 150,
   "metadata": {},
   "outputs": [],
   "source": [
    "nd = NameDataset()"
   ]
  },
  {
   "cell_type": "code",
   "execution_count": 151,
   "metadata": {},
   "outputs": [],
   "source": [
    "import numpy as np"
   ]
  },
  {
   "cell_type": "code",
   "execution_count": 152,
   "metadata": {},
   "outputs": [],
   "source": [
    "def make_fake():\n",
    "    if np.random.rand() > 0.5:\n",
    "        return en_fake.name()\n",
    "    return fa_fake.name()\n"
   ]
  },
  {
   "cell_type": "code",
   "execution_count": 153,
   "metadata": {},
   "outputs": [],
   "source": [
    "df = pd.DataFrame({\n",
    "    'Name' : [make_fake() for _ in range(10)]\n",
    "    })"
   ]
  },
  {
   "cell_type": "code",
   "execution_count": 154,
   "metadata": {},
   "outputs": [
    {
     "data": {
      "text/html": [
       "<div>\n",
       "<style scoped>\n",
       "    .dataframe tbody tr th:only-of-type {\n",
       "        vertical-align: middle;\n",
       "    }\n",
       "\n",
       "    .dataframe tbody tr th {\n",
       "        vertical-align: top;\n",
       "    }\n",
       "\n",
       "    .dataframe thead th {\n",
       "        text-align: right;\n",
       "    }\n",
       "</style>\n",
       "<table border=\"1\" class=\"dataframe\">\n",
       "  <thead>\n",
       "    <tr style=\"text-align: right;\">\n",
       "      <th></th>\n",
       "      <th>Name</th>\n",
       "    </tr>\n",
       "  </thead>\n",
       "  <tbody>\n",
       "    <tr>\n",
       "      <th>0</th>\n",
       "      <td>Austin Robbins</td>\n",
       "    </tr>\n",
       "    <tr>\n",
       "      <th>1</th>\n",
       "      <td>Nancy Blanchard</td>\n",
       "    </tr>\n",
       "    <tr>\n",
       "      <th>2</th>\n",
       "      <td>Katie Gonzalez</td>\n",
       "    </tr>\n",
       "    <tr>\n",
       "      <th>3</th>\n",
       "      <td>Joshua Donovan</td>\n",
       "    </tr>\n",
       "    <tr>\n",
       "      <th>4</th>\n",
       "      <td>فاطمه زهرا قاضی</td>\n",
       "    </tr>\n",
       "  </tbody>\n",
       "</table>\n",
       "</div>"
      ],
      "text/plain": [
       "              Name\n",
       "0   Austin Robbins\n",
       "1  Nancy Blanchard\n",
       "2   Katie Gonzalez\n",
       "3   Joshua Donovan\n",
       "4  فاطمه زهرا قاضی"
      ]
     },
     "execution_count": 154,
     "metadata": {},
     "output_type": "execute_result"
    }
   ],
   "source": [
    "df.head()"
   ]
  },
  {
   "cell_type": "code",
   "execution_count": 155,
   "metadata": {},
   "outputs": [
    {
     "data": {
      "text/plain": [
       "'Erica Lee'"
      ]
     },
     "execution_count": 155,
     "metadata": {},
     "output_type": "execute_result"
    }
   ],
   "source": [
    "full_name = en_fake.name()\n",
    "full_name"
   ]
  },
  {
   "cell_type": "markdown",
   "metadata": {},
   "source": [
    "Extract First Name AND Last Name "
   ]
  },
  {
   "cell_type": "code",
   "execution_count": 13,
   "metadata": {},
   "outputs": [],
   "source": [
    "#def get_fname_lname(name):\n",
    "#   first_name, *_, last_name = full_name.split()\n",
    "#   return first_name, last_name"
   ]
  },
  {
   "cell_type": "code",
   "execution_count": 156,
   "metadata": {},
   "outputs": [],
   "source": [
    "df['First Name'] = df['Name'].apply(\n",
    "    lambda full_name: full_name.split()[0]\n",
    ")"
   ]
  },
  {
   "cell_type": "code",
   "execution_count": 157,
   "metadata": {},
   "outputs": [],
   "source": [
    "df['Last Name'] = df['Name'].apply(\n",
    "    lambda full_name: full_name.split()[1]\n",
    ")"
   ]
  },
  {
   "cell_type": "code",
   "execution_count": 158,
   "metadata": {},
   "outputs": [
    {
     "data": {
      "text/html": [
       "<div>\n",
       "<style scoped>\n",
       "    .dataframe tbody tr th:only-of-type {\n",
       "        vertical-align: middle;\n",
       "    }\n",
       "\n",
       "    .dataframe tbody tr th {\n",
       "        vertical-align: top;\n",
       "    }\n",
       "\n",
       "    .dataframe thead th {\n",
       "        text-align: right;\n",
       "    }\n",
       "</style>\n",
       "<table border=\"1\" class=\"dataframe\">\n",
       "  <thead>\n",
       "    <tr style=\"text-align: right;\">\n",
       "      <th></th>\n",
       "      <th>Name</th>\n",
       "      <th>First Name</th>\n",
       "      <th>Last Name</th>\n",
       "    </tr>\n",
       "  </thead>\n",
       "  <tbody>\n",
       "    <tr>\n",
       "      <th>0</th>\n",
       "      <td>Austin Robbins</td>\n",
       "      <td>Austin</td>\n",
       "      <td>Robbins</td>\n",
       "    </tr>\n",
       "    <tr>\n",
       "      <th>1</th>\n",
       "      <td>Nancy Blanchard</td>\n",
       "      <td>Nancy</td>\n",
       "      <td>Blanchard</td>\n",
       "    </tr>\n",
       "    <tr>\n",
       "      <th>2</th>\n",
       "      <td>Katie Gonzalez</td>\n",
       "      <td>Katie</td>\n",
       "      <td>Gonzalez</td>\n",
       "    </tr>\n",
       "    <tr>\n",
       "      <th>3</th>\n",
       "      <td>Joshua Donovan</td>\n",
       "      <td>Joshua</td>\n",
       "      <td>Donovan</td>\n",
       "    </tr>\n",
       "    <tr>\n",
       "      <th>4</th>\n",
       "      <td>فاطمه زهرا قاضی</td>\n",
       "      <td>فاطمه</td>\n",
       "      <td>زهرا</td>\n",
       "    </tr>\n",
       "  </tbody>\n",
       "</table>\n",
       "</div>"
      ],
      "text/plain": [
       "              Name First Name  Last Name\n",
       "0   Austin Robbins     Austin    Robbins\n",
       "1  Nancy Blanchard      Nancy  Blanchard\n",
       "2   Katie Gonzalez      Katie   Gonzalez\n",
       "3   Joshua Donovan     Joshua    Donovan\n",
       "4  فاطمه زهرا قاضی      فاطمه       زهرا"
      ]
     },
     "execution_count": 158,
     "metadata": {},
     "output_type": "execute_result"
    }
   ],
   "source": [
    "df.head()"
   ]
  },
  {
   "cell_type": "code",
   "execution_count": 159,
   "metadata": {},
   "outputs": [],
   "source": [
    "def name_to_gender(first_name):\n",
    "    output = nd.search(first_name)['first_name']\n",
    "    if output is None:\n",
    "        return None\n",
    "    return max(output['gender'], key=output['gender'].get)"
   ]
  },
  {
   "cell_type": "code",
   "execution_count": 160,
   "metadata": {},
   "outputs": [
    {
     "data": {
      "text/plain": [
       "'Male'"
      ]
     },
     "execution_count": 160,
     "metadata": {},
     "output_type": "execute_result"
    }
   ],
   "source": [
    "name_to_gender('Amir')"
   ]
  },
  {
   "cell_type": "code",
   "execution_count": 161,
   "metadata": {},
   "outputs": [
    {
     "data": {
      "text/html": [
       "<div>\n",
       "<style scoped>\n",
       "    .dataframe tbody tr th:only-of-type {\n",
       "        vertical-align: middle;\n",
       "    }\n",
       "\n",
       "    .dataframe tbody tr th {\n",
       "        vertical-align: top;\n",
       "    }\n",
       "\n",
       "    .dataframe thead th {\n",
       "        text-align: right;\n",
       "    }\n",
       "</style>\n",
       "<table border=\"1\" class=\"dataframe\">\n",
       "  <thead>\n",
       "    <tr style=\"text-align: right;\">\n",
       "      <th></th>\n",
       "      <th>Name</th>\n",
       "      <th>First Name</th>\n",
       "      <th>Last Name</th>\n",
       "      <th>Gender</th>\n",
       "    </tr>\n",
       "  </thead>\n",
       "  <tbody>\n",
       "    <tr>\n",
       "      <th>0</th>\n",
       "      <td>Austin Robbins</td>\n",
       "      <td>Austin</td>\n",
       "      <td>Robbins</td>\n",
       "      <td>Male</td>\n",
       "    </tr>\n",
       "    <tr>\n",
       "      <th>1</th>\n",
       "      <td>Nancy Blanchard</td>\n",
       "      <td>Nancy</td>\n",
       "      <td>Blanchard</td>\n",
       "      <td>Female</td>\n",
       "    </tr>\n",
       "    <tr>\n",
       "      <th>2</th>\n",
       "      <td>Katie Gonzalez</td>\n",
       "      <td>Katie</td>\n",
       "      <td>Gonzalez</td>\n",
       "      <td>Female</td>\n",
       "    </tr>\n",
       "    <tr>\n",
       "      <th>3</th>\n",
       "      <td>Joshua Donovan</td>\n",
       "      <td>Joshua</td>\n",
       "      <td>Donovan</td>\n",
       "      <td>Male</td>\n",
       "    </tr>\n",
       "    <tr>\n",
       "      <th>4</th>\n",
       "      <td>فاطمه زهرا قاضی</td>\n",
       "      <td>فاطمه</td>\n",
       "      <td>زهرا</td>\n",
       "      <td>Female</td>\n",
       "    </tr>\n",
       "    <tr>\n",
       "      <th>5</th>\n",
       "      <td>اميرعلي ضرغامی</td>\n",
       "      <td>اميرعلي</td>\n",
       "      <td>ضرغامی</td>\n",
       "      <td>Male</td>\n",
       "    </tr>\n",
       "    <tr>\n",
       "      <th>6</th>\n",
       "      <td>Haley Manning</td>\n",
       "      <td>Haley</td>\n",
       "      <td>Manning</td>\n",
       "      <td>Female</td>\n",
       "    </tr>\n",
       "    <tr>\n",
       "      <th>7</th>\n",
       "      <td>فاطمه عقیلی</td>\n",
       "      <td>فاطمه</td>\n",
       "      <td>عقیلی</td>\n",
       "      <td>Female</td>\n",
       "    </tr>\n",
       "    <tr>\n",
       "      <th>8</th>\n",
       "      <td>مهدي شمشیری</td>\n",
       "      <td>مهدي</td>\n",
       "      <td>شمشیری</td>\n",
       "      <td>Male</td>\n",
       "    </tr>\n",
       "    <tr>\n",
       "      <th>9</th>\n",
       "      <td>Jared Landry</td>\n",
       "      <td>Jared</td>\n",
       "      <td>Landry</td>\n",
       "      <td>Male</td>\n",
       "    </tr>\n",
       "  </tbody>\n",
       "</table>\n",
       "</div>"
      ],
      "text/plain": [
       "              Name First Name  Last Name  Gender\n",
       "0   Austin Robbins     Austin    Robbins    Male\n",
       "1  Nancy Blanchard      Nancy  Blanchard  Female\n",
       "2   Katie Gonzalez      Katie   Gonzalez  Female\n",
       "3   Joshua Donovan     Joshua    Donovan    Male\n",
       "4  فاطمه زهرا قاضی      فاطمه       زهرا  Female\n",
       "5   اميرعلي ضرغامی    اميرعلي     ضرغامی    Male\n",
       "6    Haley Manning      Haley    Manning  Female\n",
       "7      فاطمه عقیلی      فاطمه      عقیلی  Female\n",
       "8      مهدي شمشیری       مهدي     شمشیری    Male\n",
       "9     Jared Landry      Jared     Landry    Male"
      ]
     },
     "execution_count": 161,
     "metadata": {},
     "output_type": "execute_result"
    }
   ],
   "source": [
    "df['Gender'] = df['First Name'].apply(name_to_gender)\n",
    "df"
   ]
  },
  {
   "cell_type": "code",
   "execution_count": 164,
   "metadata": {},
   "outputs": [],
   "source": [
    "def country_x(first_name):\n",
    "    country_out = nd.search(first_name)['first_name']['country'].items()\n",
    "    return country_out"
   ]
  },
  {
   "cell_type": "code",
   "execution_count": 165,
   "metadata": {},
   "outputs": [
    {
     "data": {
      "text/plain": [
       "dict_items([('United Arab Emirates', 0.06), ('Algeria', 0.096), ('Egypt', 0.176), ('Israel', 0.035), ('Iran, Islamic Republic of', 0.168), ('Morocco', 0.085), ('Malaysia', 0.093), ('Oman', 0.035), ('Saudi Arabia', 0.182), ('Tunisia', 0.07)])"
      ]
     },
     "execution_count": 165,
     "metadata": {},
     "output_type": "execute_result"
    }
   ],
   "source": [
    "country_x('amir')"
   ]
  },
  {
   "cell_type": "code",
   "execution_count": 167,
   "metadata": {},
   "outputs": [],
   "source": [
    "df['Country'] = df['First Name'].apply(country_x)"
   ]
  },
  {
   "cell_type": "code",
   "execution_count": 168,
   "metadata": {},
   "outputs": [
    {
     "data": {
      "text/html": [
       "<div>\n",
       "<style scoped>\n",
       "    .dataframe tbody tr th:only-of-type {\n",
       "        vertical-align: middle;\n",
       "    }\n",
       "\n",
       "    .dataframe tbody tr th {\n",
       "        vertical-align: top;\n",
       "    }\n",
       "\n",
       "    .dataframe thead th {\n",
       "        text-align: right;\n",
       "    }\n",
       "</style>\n",
       "<table border=\"1\" class=\"dataframe\">\n",
       "  <thead>\n",
       "    <tr style=\"text-align: right;\">\n",
       "      <th></th>\n",
       "      <th>Name</th>\n",
       "      <th>First Name</th>\n",
       "      <th>Last Name</th>\n",
       "      <th>Gender</th>\n",
       "      <th>Country</th>\n",
       "    </tr>\n",
       "  </thead>\n",
       "  <tbody>\n",
       "    <tr>\n",
       "      <th>0</th>\n",
       "      <td>Austin Robbins</td>\n",
       "      <td>Austin</td>\n",
       "      <td>Robbins</td>\n",
       "      <td>Male</td>\n",
       "      <td>((Canada, 0.043), (Colombia, 0.007), (Costa Ri...</td>\n",
       "    </tr>\n",
       "    <tr>\n",
       "      <th>1</th>\n",
       "      <td>Nancy Blanchard</td>\n",
       "      <td>Nancy</td>\n",
       "      <td>Blanchard</td>\n",
       "      <td>Female</td>\n",
       "      <td>((Belgium, 0.036), (Bolivia, Plurinational Sta...</td>\n",
       "    </tr>\n",
       "    <tr>\n",
       "      <th>2</th>\n",
       "      <td>Katie Gonzalez</td>\n",
       "      <td>Katie</td>\n",
       "      <td>Gonzalez</td>\n",
       "      <td>Female</td>\n",
       "      <td>((Canada, 0.039), (Costa Rica, 0.005), (France...</td>\n",
       "    </tr>\n",
       "    <tr>\n",
       "      <th>3</th>\n",
       "      <td>Joshua Donovan</td>\n",
       "      <td>Joshua</td>\n",
       "      <td>Donovan</td>\n",
       "      <td>Male</td>\n",
       "      <td>((Canada, 0.036), (United Kingdom, 0.133), (It...</td>\n",
       "    </tr>\n",
       "    <tr>\n",
       "      <th>4</th>\n",
       "      <td>فاطمه زهرا قاضی</td>\n",
       "      <td>فاطمه</td>\n",
       "      <td>زهرا</td>\n",
       "      <td>Female</td>\n",
       "      <td>((Egypt, 0.313), (Iraq, 0.172), (Iran, Islamic...</td>\n",
       "    </tr>\n",
       "    <tr>\n",
       "      <th>5</th>\n",
       "      <td>اميرعلي ضرغامی</td>\n",
       "      <td>اميرعلي</td>\n",
       "      <td>ضرغامی</td>\n",
       "      <td>Male</td>\n",
       "      <td>((United Arab Emirates, 0.02), (Egypt, 0.034),...</td>\n",
       "    </tr>\n",
       "    <tr>\n",
       "      <th>6</th>\n",
       "      <td>Haley Manning</td>\n",
       "      <td>Haley</td>\n",
       "      <td>Manning</td>\n",
       "      <td>Female</td>\n",
       "      <td>((Canada, 0.054), (China, 0.003), (Costa Rica,...</td>\n",
       "    </tr>\n",
       "    <tr>\n",
       "      <th>7</th>\n",
       "      <td>فاطمه عقیلی</td>\n",
       "      <td>فاطمه</td>\n",
       "      <td>عقیلی</td>\n",
       "      <td>Female</td>\n",
       "      <td>((Egypt, 0.313), (Iraq, 0.172), (Iran, Islamic...</td>\n",
       "    </tr>\n",
       "    <tr>\n",
       "      <th>8</th>\n",
       "      <td>مهدي شمشیری</td>\n",
       "      <td>مهدي</td>\n",
       "      <td>شمشیری</td>\n",
       "      <td>Male</td>\n",
       "      <td>((Algeria, 0.04), (Egypt, 0.036), (Iraq, 0.589...</td>\n",
       "    </tr>\n",
       "    <tr>\n",
       "      <th>9</th>\n",
       "      <td>Jared Landry</td>\n",
       "      <td>Jared</td>\n",
       "      <td>Landry</td>\n",
       "      <td>Male</td>\n",
       "      <td>((Canada, 0.055), (Colombia, 0.008), (Costa Ri...</td>\n",
       "    </tr>\n",
       "  </tbody>\n",
       "</table>\n",
       "</div>"
      ],
      "text/plain": [
       "              Name First Name  Last Name  Gender  \\\n",
       "0   Austin Robbins     Austin    Robbins    Male   \n",
       "1  Nancy Blanchard      Nancy  Blanchard  Female   \n",
       "2   Katie Gonzalez      Katie   Gonzalez  Female   \n",
       "3   Joshua Donovan     Joshua    Donovan    Male   \n",
       "4  فاطمه زهرا قاضی      فاطمه       زهرا  Female   \n",
       "5   اميرعلي ضرغامی    اميرعلي     ضرغامی    Male   \n",
       "6    Haley Manning      Haley    Manning  Female   \n",
       "7      فاطمه عقیلی      فاطمه      عقیلی  Female   \n",
       "8      مهدي شمشیری       مهدي     شمشیری    Male   \n",
       "9     Jared Landry      Jared     Landry    Male   \n",
       "\n",
       "                                             Country  \n",
       "0  ((Canada, 0.043), (Colombia, 0.007), (Costa Ri...  \n",
       "1  ((Belgium, 0.036), (Bolivia, Plurinational Sta...  \n",
       "2  ((Canada, 0.039), (Costa Rica, 0.005), (France...  \n",
       "3  ((Canada, 0.036), (United Kingdom, 0.133), (It...  \n",
       "4  ((Egypt, 0.313), (Iraq, 0.172), (Iran, Islamic...  \n",
       "5  ((United Arab Emirates, 0.02), (Egypt, 0.034),...  \n",
       "6  ((Canada, 0.054), (China, 0.003), (Costa Rica,...  \n",
       "7  ((Egypt, 0.313), (Iraq, 0.172), (Iran, Islamic...  \n",
       "8  ((Algeria, 0.04), (Egypt, 0.036), (Iraq, 0.589...  \n",
       "9  ((Canada, 0.055), (Colombia, 0.008), (Costa Ri...  "
      ]
     },
     "execution_count": 168,
     "metadata": {},
     "output_type": "execute_result"
    }
   ],
   "source": [
    "df"
   ]
  }
 ],
 "metadata": {
  "kernelspec": {
   "display_name": "py310",
   "language": "python",
   "name": "python3"
  },
  "language_info": {
   "codemirror_mode": {
    "name": "ipython",
    "version": 3
   },
   "file_extension": ".py",
   "mimetype": "text/x-python",
   "name": "python",
   "nbconvert_exporter": "python",
   "pygments_lexer": "ipython3",
   "version": "3.10.16"
  }
 },
 "nbformat": 4,
 "nbformat_minor": 2
}
